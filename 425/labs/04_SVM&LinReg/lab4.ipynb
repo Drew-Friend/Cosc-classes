{
 "cells": [
  {
   "cell_type": "code",
   "execution_count": 111,
   "metadata": {},
   "outputs": [],
   "source": [
    "import pandas as pd\n",
    "import matplotlib.pyplot as plt\n",
    "import numpy as np\n",
    "import cv2\n",
    "\n",
    "from sklearn.linear_model import LinearRegression\n",
    "from sklearn.svm import LinearSVC\n",
    "from sklearn.metrics import accuracy_score\n",
    "from sklearn.metrics import mean_squared_error\n",
    "from sklearn.metrics import r2_score\n",
    "from sklearn.model_selection import train_test_split"
   ]
  },
  {
   "cell_type": "markdown",
   "metadata": {},
   "source": [
    "Part 1: Linear Regression"
   ]
  },
  {
   "cell_type": "code",
   "execution_count": 76,
   "metadata": {},
   "outputs": [],
   "source": [
    "df = pd.read_csv(\"auto-mpg.csv\")\n",
    "y = np.asarray(df[\"mpg\"])\n",
    "X_full = np.asarray(df.loc[:, [\"cylinders\", \"displacement\", \"horsepower\", \"weight\", \"acceleration\"]])\n",
    "X_full = np.swapaxes(X_full, 0, 1)\n",
    "SPLIT_SIZE = .2\n",
    "state = 425"
   ]
  },
  {
   "cell_type": "markdown",
   "metadata": {},
   "source": [
    "Question 1.1"
   ]
  },
  {
   "cell_type": "code",
   "execution_count": null,
   "metadata": {},
   "outputs": [],
   "source": [
    "for col in X_full:\n",
    "    # plt.show()\n",
    "    X_train, X_test, y_train, y_test = train_test_split(col, y, test_size=SPLIT_SIZE, random_state=state)\n",
    "    linear = LinearRegression()\n",
    "    linear.fit(X_train.reshape(-1,1), y_train)\n",
    "    # Training Data Predictions\n",
    "    pred_train = [None] * X_train.size\n",
    "    pred_train = linear.predict(X_train.reshape(-1,1))\n",
    "    print(\"Training:\", mean_squared_error(y_train, pred_train), r2_score(y_train, pred_train))\n",
    "    # Testing Data Predictions\n",
    "    pred_test = [None] * X_test.size\n",
    "    pred_test = linear.predict(X_test.reshape(-1,1))\n",
    "    print(\"Testing:\", mean_squared_error(y_test, pred_test), r2_score(y_test, pred_test))\n",
    "\n",
    "    # Model Information\n",
    "    print(\"Coefficient:\", linear.coef_,\"Intercept: \", linear.intercept_)\n",
    "    listNum = np.linspace(col.min(), col.max(), 100)\n",
    "    plt.scatter(X_train, y_train, color=\"green\")\n",
    "    plt.scatter(X_test, y_test, color = \"blue\")\n",
    "    plt.plot(listNum, (listNum*linear.coef_)+linear.intercept_, color=\"red\")\n",
    "    plt.legend((\"Linear Regression\", \"Training\", \"Testing\"))\n",
    "    plt.show()\n"
   ]
  },
  {
   "cell_type": "markdown",
   "metadata": {},
   "source": [
    "Question 1.2"
   ]
  },
  {
   "cell_type": "code",
   "execution_count": null,
   "metadata": {},
   "outputs": [],
   "source": [
    "X_full = np.swapaxes(X_full, 0, 1)\n",
    "print(X_full.shape, y.shape)\n",
    "\n",
    "X_train, X_test, y_train, y_test = train_test_split(X_full, y, test_size=SPLIT_SIZE, random_state=state)\n",
    "linear = LinearRegression()\n",
    "linear.fit(X_train, y_train)\n",
    "\n",
    "pred_train = [None] * X_train.size\n",
    "pred_train = linear.predict(X_train)\n",
    "print(\"Training:\", mean_squared_error(y_train, pred_train), r2_score(y_train, pred_train))\n",
    "# Testing Data Predictions\n",
    "pred_test = [None] * X_test.size\n",
    "pred_test = linear.predict(X_test)\n",
    "print(\"Testing:\", mean_squared_error(y_test, pred_test), r2_score(y_test, pred_test))"
   ]
  },
  {
   "cell_type": "markdown",
   "metadata": {},
   "source": [
    "Part 2: SVM"
   ]
  },
  {
   "cell_type": "code",
   "execution_count": 112,
   "metadata": {},
   "outputs": [],
   "source": [
    "df = pd.read_csv(\"Stars.csv\")\n",
    "y = np.asarray(df[\"Type\"])\n",
    "X_full = np.asarray(df.loc[:, [\"Temperature\", \"L\", \"R\", \"A_M\"]])\n",
    "# X_full = np.swapaxes(X_full, 0, 1)"
   ]
  },
  {
   "cell_type": "markdown",
   "metadata": {},
   "source": [
    "Question 2.1"
   ]
  },
  {
   "cell_type": "code",
   "execution_count": null,
   "metadata": {},
   "outputs": [],
   "source": [
    "from signal import valid_signals\n",
    "\n",
    "\n",
    "X_train, X_test, y_train, y_test = train_test_split(X_full, y, test_size=SPLIT_SIZE, random_state=state)\n",
    "X_train2, X_val, y_train2, y_val = train_test_split(X_train, y_train, test_size=0.125, random_state=state)\n",
    "\n",
    "max_iter=[1000,10000,100000,1000000]\n",
    "C=[0.01,0.1,1,10,100,1000]\n",
    "val_acc = []\n",
    "\n",
    "for i in max_iter:\n",
    "    for c in C:\n",
    "        svc = LinearSVC(C=c, max_iter=i, random_state=state)\n",
    "        svc.fit(X_train2, y_train2)\n",
    "        val_acc.append(accuracy_score(y_val, svc.predict(X_val)))\n",
    "\n",
    "val_acc = np.reshape(np.asarray(val_acc), (4,6))\n",
    "plt.pcolor(val_acc)\n",
    "# fig, ax = plt.subplots()\n",
    "# ax.xaxis.set_ticks(np.arange(len(C)), labels=C_s\n",
    "plt.ylabel(max_iter)\n",
    "plt.xlabel(C)\n",
    "cbar = plt.colorbar()\n",
    "plt.show()"
   ]
  },
  {
   "cell_type": "markdown",
   "metadata": {},
   "source": [
    "Question 2.2"
   ]
  },
  {
   "cell_type": "code",
   "execution_count": null,
   "metadata": {},
   "outputs": [],
   "source": [
    "svc = LinearSVC(C=100, max_iter=1000000, random_state=state)\n",
    "svc.fit(X_train, y_train)\n",
    "\n",
    "print(\"Training: \", accuracy_score(y_train, svc.predict(X_train)))\n",
    "print(\"Testing: \", accuracy_score(y_test, svc.predict(X_test)))"
   ]
  }
 ],
 "metadata": {
  "kernelspec": {
   "display_name": "Python 3.9.13 64-bit (microsoft store)",
   "language": "python",
   "name": "python3"
  },
  "language_info": {
   "codemirror_mode": {
    "name": "ipython",
    "version": 3
   },
   "file_extension": ".py",
   "mimetype": "text/x-python",
   "name": "python",
   "nbconvert_exporter": "python",
   "pygments_lexer": "ipython3",
   "version": "3.9.13"
  },
  "orig_nbformat": 4,
  "vscode": {
   "interpreter": {
    "hash": "3c90b2af064f3baa08f06de761b59460d33d98ca18545639bd5dd7a3ca403d2a"
   }
  }
 },
 "nbformat": 4,
 "nbformat_minor": 2
}
