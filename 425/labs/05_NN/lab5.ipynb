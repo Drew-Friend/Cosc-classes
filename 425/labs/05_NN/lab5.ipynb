{
 "cells": [
  {
   "cell_type": "code",
   "execution_count": 23,
   "metadata": {},
   "outputs": [],
   "source": [
    "import pandas as pd\n",
    "import matplotlib.pyplot as plt\n",
    "import numpy as np\n",
    "\n",
    "from sklearn.neural_network import MLPClassifier\n",
    "from sklearn.model_selection import train_test_split\n",
    "from sklearn.preprocessing import StandardScaler\n",
    "from sklearn.model_selection import KFold\n",
    "from sklearn.metrics import accuracy_score\n",
    "from sklearn.metrics import plot_confusion_matrix, confusion_matrix\n",
    "from seaborn import heatmap\n"
   ]
  },
  {
   "cell_type": "markdown",
   "metadata": {},
   "source": [
    "Data Prep:"
   ]
  },
  {
   "cell_type": "code",
   "execution_count": 24,
   "metadata": {},
   "outputs": [],
   "source": [
    "df = pd.read_csv(\"Data\\\\features_3_sec.csv\")\n",
    "y = np.asarray(df[\"label\"])\n",
    "df = df.drop(columns=[\"label\", \"filename\"])\n",
    "X = np.asarray(df)\n",
    "\n",
    "SPLIT = 0.2\n",
    "SEED = 425\n",
    "\n",
    "X_train, X_test, y_train, y_test = train_test_split(X, y, test_size = SPLIT)"
   ]
  },
  {
   "cell_type": "markdown",
   "metadata": {},
   "source": [
    "Question 1:"
   ]
  },
  {
   "cell_type": "code",
   "execution_count": null,
   "metadata": {},
   "outputs": [],
   "source": [
    "# Run both before and after running the question 2 code to list the data before and after processing, \n",
    "# rather than writing the same code twice\n",
    "X_features = np.swapaxes(X_train, 0,1)\n",
    "for feature in X_features:\n",
    "    print(\"Mean: \", np.mean(feature),\"\\n    Standard Deviation: \", np.std(feature))  "
   ]
  },
  {
   "cell_type": "markdown",
   "metadata": {},
   "source": [
    "Question 2:"
   ]
  },
  {
   "cell_type": "code",
   "execution_count": 26,
   "metadata": {},
   "outputs": [],
   "source": [
    "scaler = StandardScaler()\n",
    "X_train = scaler.fit_transform(X_train)\n",
    "X_test = scaler.transform(X_test)\n"
   ]
  },
  {
   "cell_type": "markdown",
   "metadata": {},
   "source": [
    "Question 3:"
   ]
  },
  {
   "cell_type": "code",
   "execution_count": null,
   "metadata": {},
   "outputs": [],
   "source": [
    "splits = KFold(n_splits=3)\n",
    "num = [50, 100, 200, 500]\n",
    "lrs = [0.0001, 0.001, 0.01, 0.1, 1]\n",
    "map_info = []\n",
    "\n",
    "for rate in lrs:\n",
    "    for n in num:\n",
    "        fold_scores = []\n",
    "        for train_index, val_index in splits.split(X_train):\n",
    "            nn = MLPClassifier(n, 'tanh', solver ='sgd', learning_rate_init=rate, random_state=SEED)\n",
    "            X_subtrain = X_train[train_index]\n",
    "            X_val = X_train[val_index]\n",
    "            y_subtrain = y_train[train_index]\n",
    "            y_val = y_train[val_index]\n",
    "            nn.fit(X_subtrain, y_subtrain)\n",
    "            fold_scores.append(accuracy_score(y_val, nn.predict(X_val)))\n",
    "        map_info.append(np.mean(fold_scores))\n",
    "        print(map_info[-1])\n",
    "\n"
   ]
  },
  {
   "cell_type": "markdown",
   "metadata": {},
   "source": [
    "Question 3.1: Heatmap"
   ]
  },
  {
   "cell_type": "code",
   "execution_count": null,
   "metadata": {},
   "outputs": [],
   "source": [
    "map_square = np.empty((5,4))\n",
    "for i in range(20):\n",
    "    map_square[i//4][i%4] = map_info[i]\n",
    "\n",
    "fig, ax = plt.subplots()\n",
    "ax = heatmap(map_square, xticklabels=num, yticklabels=lrs)\n",
    "plt.ylabel(\"Learning Rate\")\n",
    "plt.xlabel(\"Number of Neurons\")\n",
    "plt.title(\"Heatmap of NN Hyperparameters\")\n",
    "# cbar = plt.colorbar()\n",
    "plt.show()"
   ]
  },
  {
   "cell_type": "markdown",
   "metadata": {},
   "source": [
    "Question 4:"
   ]
  },
  {
   "cell_type": "code",
   "execution_count": null,
   "metadata": {},
   "outputs": [],
   "source": [
    "structs = [(100), (100,100), (100,100,100), (200),\n",
    "(200,100), (200,100,100), (500), (500,200), (500,200,100)]\n",
    "struct_info = []\n",
    "for struct in structs:\n",
    "    fold_scores = []\n",
    "    for train_index, val_index in splits.split(X_train):\n",
    "        nn = MLPClassifier(struct, 'tanh', solver ='sgd', learning_rate_init=0.1, random_state=SEED)\n",
    "        X_subtrain = X_train[train_index]\n",
    "        X_val = X_train[val_index]\n",
    "        y_subtrain = y_train[train_index]\n",
    "        y_val = y_train[val_index]\n",
    "        nn.fit(X_subtrain, y_subtrain)\n",
    "        fold_scores.append(accuracy_score(y_val, nn.predict(X_val)))\n",
    "    struct_info.append(np.mean(fold_scores))\n",
    "for i in range(9):\n",
    "    print(structs[i], \":\\n   \", struct_info[i])"
   ]
  },
  {
   "cell_type": "markdown",
   "metadata": {},
   "source": [
    "Question 5:"
   ]
  },
  {
   "cell_type": "code",
   "execution_count": null,
   "metadata": {},
   "outputs": [],
   "source": [
    "np.random.seed(SEED)\n",
    "states = np.random.randint(low=1000,size=10, )\n",
    "\n",
    "train_acc = []\n",
    "test_acc = []\n",
    "for state in states:\n",
    "    nn = MLPClassifier((500,200), 'tanh', solver ='sgd', learning_rate_init=0.1, random_state=state, max_iter=1000) \n",
    "    nn.fit(X_train, y_train)\n",
    "    train_acc.append(accuracy_score(y_train, nn.predict(X_train)))\n",
    "    test_acc.append(accuracy_score(y_test, nn.predict(X_test)))\n",
    "    plt.plot(nn.loss_curve_)\n",
    "plt.title(\"Loss curves\")\n",
    "plt.xlabel(\"Iterations\")\n",
    "plt.ylabel(\"Loss\")\n",
    "for i in range(10):\n",
    "    print(states[i], \":\\n    Train:\", train_acc[i], \"\\n    Test: \", test_acc[i])"
   ]
  },
  {
   "cell_type": "markdown",
   "metadata": {},
   "source": [
    "Question 6:"
   ]
  },
  {
   "cell_type": "code",
   "execution_count": null,
   "metadata": {},
   "outputs": [],
   "source": [
    "nn = MLPClassifier((500,200), 'tanh', solver ='sgd', learning_rate_init=0.1, random_state=SEED, max_iter=1000) \n",
    "nn.fit(X_train, y_train)\n",
    "\n",
    "matrix = confusion_matrix(y_test, nn.predict(X_test))\n",
    "plot_confusion_matrix(nn, X_test, y_test, xticks_rotation=45, include_values=False)\n",
    "\n",
    "print(matrix)\n",
    "plt.title(\"Confusion Matrix\")\n",
    "plt.show()"
   ]
  }
 ],
 "metadata": {
  "kernelspec": {
   "display_name": "Python 3.9.13 64-bit (microsoft store)",
   "language": "python",
   "name": "python3"
  },
  "language_info": {
   "codemirror_mode": {
    "name": "ipython",
    "version": 3
   },
   "file_extension": ".py",
   "mimetype": "text/x-python",
   "name": "python",
   "nbconvert_exporter": "python",
   "pygments_lexer": "ipython3",
   "version": "3.9.13"
  },
  "orig_nbformat": 4,
  "vscode": {
   "interpreter": {
    "hash": "3c90b2af064f3baa08f06de761b59460d33d98ca18545639bd5dd7a3ca403d2a"
   }
  }
 },
 "nbformat": 4,
 "nbformat_minor": 2
}
