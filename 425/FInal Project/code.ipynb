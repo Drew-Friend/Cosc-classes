{
 "cells": [
  {
   "cell_type": "markdown",
   "metadata": {},
   "source": [
    "Code Plan:\n",
    " * Read in and clean data\n",
    " * Determine which features are useful\n",
    " * Perform classification of snow vs rain\n",
    " * Perform linear regression of percipitation using cut data\n",
    " * Compare performance of all models\n",
    " * Create complete prediction model"
   ]
  },
  {
   "cell_type": "code",
   "execution_count": 1,
   "metadata": {},
   "outputs": [],
   "source": [
    "# Imports\n",
    "import pandas as pd\n",
    "import matplotlib.pyplot as plt\n",
    "import numpy as np\n",
    "\n",
    "from sklearn.linear_model import LinearRegression\n",
    "from sklearn.svm import LinearSVR\n",
    "from sklearn.svm import SVR\n",
    "from sklearn.neural_network import MLPRegressor\n",
    "from sklearn.cluster import KMeans\n",
    "from sklearn.neighbors import KNeighborsClassifier\n",
    "\n",
    "from sklearn.metrics import accuracy_score\n",
    "from sklearn.metrics import mean_squared_error\n",
    "from sklearn.metrics import r2_score\n",
    "from sklearn.preprocessing import StandardScaler\n",
    "from sklearn.model_selection import train_test_split\n",
    "from seaborn import heatmap"
   ]
  },
  {
   "cell_type": "markdown",
   "metadata": {},
   "source": [
    "Data Cleaning:\n",
    "* Read data in\n",
    "* Clean sheet\n",
    "* Determine relevant features"
   ]
  },
  {
   "cell_type": "code",
   "execution_count": 7,
   "metadata": {},
   "outputs": [
    {
     "data": {
      "image/png": "[encoded data removed]",
      "text/plain": [
       "<Figure size 640x480 with 1 Axes>"
      ]
     },
     "metadata": {},
     "output_type": "display_data"
    }
   ],
   "source": [
    "df = pd.read_csv(\"dataset.csv\")\n",
    "df = df.fillna(0)\n",
    "\n",
    "# Add Liquid Precipitation and Snowfall for total snow\n",
    "yr = np.asarray(df[\"PRCP\"])\n",
    "ys = np.asarray(df[\"SNOW\"]) \n",
    "X_full = np.asarray(df.loc[:, [\"AWND\",\"PGTM\",\"TAVG\",\"TMAX\",\"TMIN\",\"WDF2\",\"WDF5\",\"WSF2\",\"WSF5\",\"WT01\",\"WT02\",\"WT03\",\"WT04\",\"WT05\",\"WT08\",\"WT09\"]])\n",
    "# Delete first day's weather and last day's data to make predictions for tomowrrow\n",
    "# X_full = np.delete(X_full, -1,0)\n",
    "# yr = np.delete(yr,0)\n",
    "# ys = np.delete(ys,0)\n",
    "y_class = np.empty(yr.shape)\n",
    "for i in range(len(yr)):\n",
    "    if(yr[i] == 0):\n",
    "        y_class[i] = 0\n",
    "    else:\n",
    "        y_class[i] = 1\n",
    "y = yr+ys\n",
    "\n",
    "rain = np.empty(7)\n",
    "notRain = np.empty(7)\n",
    "for i in range(len(yr)):\n",
    "    for j in range(9,16):\n",
    "        if X_full[i][j] == 1:\n",
    "            if yr[i] == 1:\n",
    "                rain[j-9] +=1\n",
    "            else:\n",
    "                notRain[j-9] +=1\n",
    "# # Legend\n",
    "colors = {'Rained':'blue', 'Did Not Rain':'orange'}         \n",
    "labels = list(colors.keys())\n",
    "handles = [plt.Rectangle((0,0),1,1, color=colors[label]) for label in labels]\n",
    "#Plotting\n",
    "plt.hist([rain, notRain], stacked=True)\n",
    "plt.legend(handles, labels)\n",
    "plt.xlabel(\"Weather Type\")\n",
    "plt.show()\n",
    "\n",
    "\n",
    "scaler = StandardScaler()\n",
    "X_full = scaler.fit_transform(X_full)\n",
    "X_cut = np.swapaxes(X_full, 0, 1)\n",
    "SPLIT_SIZE = .2\n",
    "state = 425\n",
    "\n",
    "# for num, feature in enumerate(X_cut):\n",
    "#     fig = plt.figure(num)\n",
    "#     plt.scatter(feature, y)\n",
    "#     plt.scatter(feature, yr)\n",
    "#     plt.scatter(feature, ys)\n",
    "#     plt.legend([\"Total\", \"Rain\", \"Snow\"])\n",
    "#     # plt.autoscale\n",
    "#     plt.plot\n",
    "#     fig.show\n",
    "\n",
    "\n",
    "\n",
    "X_cut = np.swapaxes(X_cut, 0, 1)\n",
    "# Remove Weather type booleans\n",
    "X_cut = np.delete(X_cut, [9,10,11,12,13,14,15], 1)\n",
    "X_train_class, X_test_class, y_train_class, y_test_class = train_test_split(X_full, y_class, test_size = SPLIT_SIZE, random_state=state)\n",
    "X_train_class, X_val_class, y_train_class, y_val_class = train_test_split(X_train_class, y_train_class, test_size = SPLIT_SIZE, random_state=state)\n",
    "\n",
    "X_train_r, X_test_r, y_train_r, y_test_r = train_test_split(X_cut, yr, test_size = SPLIT_SIZE, random_state=state)\n",
    "X_train_r, X_val_r, y_train_r, y_val_r = train_test_split(X_train_r, y_train_r, test_size = SPLIT_SIZE, random_state=state)\n",
    "\n",
    "X_train_s, X_test_s, y_train_s, y_test_s = train_test_split(X_cut, ys, test_size = SPLIT_SIZE, random_state=state)\n",
    "X_train_s, X_val_s, y_train_s, y_val_s = train_test_split(X_train_s, y_train_s, test_size = SPLIT_SIZE, random_state=state)\n",
    "# Note for report, no individual feature appears linear with precipitation, snowfall, or the sum.\n",
    "# All features except weather type will be used in predictive models"
   ]
  },
  {
   "cell_type": "markdown",
   "metadata": {},
   "source": [
    "# For each of the following models: #\n",
    "* Tune Hyperparameters\n",
    "* Fit model"
   ]
  },
  {
   "cell_type": "markdown",
   "metadata": {},
   "source": [
    "## Classification\n",
    "Determine most likely type of precipitation"
   ]
  },
  {
   "cell_type": "markdown",
   "metadata": {},
   "source": [
    "Model 1: KMeans"
   ]
  },
  {
   "cell_type": "code",
   "execution_count": null,
   "metadata": {},
   "outputs": [],
   "source": [
    "# Tune Hyperparameters\n",
    "inits = [\"random\", \"k-means++\"]\n",
    "for start in inits:\n",
    "    kMean = KMeans(init = start, n_clusters=2, copy_x=True, random_state=state)\n",
    "    kMean.fit(X_train_class, y_train_class)\n",
    "    print(start, \"\\n   \", accuracy_score(y_train_class,kMean.predict(X_train_class)), \"\\n   \", accuracy_score(y_val_class,kMean.predict(X_val_class)))\n",
    "\n",
    "# Max accuracy is k-means++ @ 66.9%"
   ]
  },
  {
   "cell_type": "markdown",
   "metadata": {},
   "source": [
    "Model 2: KNN"
   ]
  },
  {
   "cell_type": "code",
   "execution_count": null,
   "metadata": {},
   "outputs": [],
   "source": [
    "# Tune Hyperparameters\n",
    "for n in range(1,22,2):\n",
    "    neigh = KNeighborsClassifier(n_neighbors=n)\n",
    "    neigh.fit(X_train_class, y_train_class)\n",
    "    y_predict = neigh.predict(X_val_class)\n",
    "    print(n, \":   \", accuracy_score(y_val_class, y_predict))\n",
    "\n",
    "# Max accuracy is 15 neighbors @ 90.3%"
   ]
  },
  {
   "cell_type": "markdown",
   "metadata": {},
   "source": [
    "## Regression\n",
    "Based on type determined by classifier, use model trained off of that type"
   ]
  },
  {
   "cell_type": "markdown",
   "metadata": {},
   "source": [
    "Model 1: Linear Regression"
   ]
  },
  {
   "cell_type": "code",
   "execution_count": null,
   "metadata": {},
   "outputs": [],
   "source": [
    "linReg = LinearRegression(copy_X=True)\n",
    "linReg.fit(X_train_r, y_train_r)\n",
    "lR_pred = linReg.predict(X_train_r)\n",
    "print(\"Rain Training: \\n   MSE: \", mean_squared_error(y_train_r, lR_pred), \"\\n   R2:  \", r2_score(y_train_r, lR_pred))\n",
    "lR_pred = linReg.predict(X_val_r)\n",
    "print(\"Rain Validation: \\n   MSE: \", mean_squared_error(y_val_r, lR_pred), \"\\n   R2:  \", r2_score(y_val_r, lR_pred))\n",
    "\n",
    "linReg = LinearRegression(copy_X=True)\n",
    "linReg.fit(X_train_s, y_train_s)\n",
    "lR_pred = linReg.predict(X_train_s)\n",
    "print(\"Snow Training: \\n   MSE: \", mean_squared_error(y_train_s, lR_pred), \"\\n   R2:  \", r2_score(y_train_s, lR_pred))\n",
    "lR_pred = linReg.predict(X_val_s)\n",
    "print(\"Snow Validation: \\n   MSE: \", mean_squared_error(y_val_s, lR_pred), \"\\n   R2:  \", r2_score(y_val_s, lR_pred))\n",
    "\n",
    "#Note for report: Validation scores are better than Training scores\n",
    "# Rain .139/.007\n",
    "# Snow .024/.006"
   ]
  },
  {
   "cell_type": "markdown",
   "metadata": {},
   "source": [
    "Model 2: Linear SVM"
   ]
  },
  {
   "cell_type": "code",
   "execution_count": null,
   "metadata": {},
   "outputs": [],
   "source": [
    "# Tune Hyperparameters\n",
    "max_iter=[100, 1000,10000,100000]\n",
    "C=[1,10,100,1000, 10000, 100000]\n",
    "val_acc = []\n",
    "\n",
    "for i in max_iter:\n",
    "    for c in C:\n",
    "        svm = LinearSVR(C=c, max_iter=i, random_state=state)\n",
    "        svm.fit(X_train_r, y_train_r)\n",
    "        val_acc.append(mean_squared_error(y_val_r, svm.predict(X_val_r)))\n",
    "\n",
    "val_acc = np.reshape(np.asarray(val_acc), (4,6))\n",
    "\n",
    "fig, ax = plt.subplots()\n",
    "ax = heatmap(val_acc, xticklabels=C, yticklabels=max_iter, annot=True)\n",
    "plt.ylabel(\"Max Iterations\")\n",
    "plt.xlabel(\"Regularization:\")\n",
    "plt.title(\"Heatmap of Hyperparameters\")\n",
    "plt.show()\n",
    "\n",
    "# Minimum Validation MSE at 100, 10000"
   ]
  },
  {
   "cell_type": "code",
   "execution_count": null,
   "metadata": {},
   "outputs": [],
   "source": [
    "linSVM = LinearSVR(C=100, max_iter=10000, random_state=state)\n",
    "linSVM.fit(X_train_r, y_train_r)\n",
    "\n",
    "lSVM_pred = linSVM.predict(X_train_r)\n",
    "print(\"Rain Training: \\n   MSE: \", mean_squared_error(y_train_r, lSVM_pred), \"\\n   R2:  \", r2_score(y_train_r, lSVM_pred))\n",
    "lSVM_pred = linSVM.predict(X_val_r)\n",
    "print(\"Rain Validation: \\n   MSE: \", mean_squared_error(y_val_r, lSVM_pred), \"\\n   R2:  \", r2_score(y_val_r, lSVM_pred))\n",
    "\n",
    "linSVM = LinearSVR(C=100, max_iter=10000, random_state=state)\n",
    "linSVM.fit(X_train_s, y_train_s)\n",
    "\n",
    "lSVM_pred = linSVM.predict(X_train_s)\n",
    "print(\"Snow Training: \\n   MSE: \", mean_squared_error(y_train_s, lSVM_pred), \"\\n   R2:  \", r2_score(y_train_s, lSVM_pred))\n",
    "lSVM_pred = linSVM.predict(X_val_s)\n",
    "print(\"Snow Validation: \\n   MSE: \", mean_squared_error(y_val_s, lSVM_pred), \"\\n   R2:  \", r2_score(y_val_s, lSVM_pred))\n",
    "\n",
    "\n",
    "# Note for report: Fails to converge, higher Validation values, negative R2\n",
    "# Rain .153/-.087\n",
    "# Snow .024/-.013"
   ]
  },
  {
   "cell_type": "markdown",
   "metadata": {},
   "source": [
    "Model 3: Kernelized SVM"
   ]
  },
  {
   "cell_type": "code",
   "execution_count": null,
   "metadata": {},
   "outputs": [],
   "source": [
    "#Tune Hyperparameters\n",
    "kernels = ['poly', 'rbf', 'sigmoid']\n",
    "gammas = ['scale', 'auto']\n",
    "val_acc = []\n",
    "\n",
    "for k in kernels:\n",
    "    for g in gammas:\n",
    "        svm = SVR(C=1000, kernel=k, gamma=g)\n",
    "        svm.fit(X_train_r, y_train_r)\n",
    "        val_acc.append(mean_squared_error(y_val_r, svm.predict(X_val_r)))\n",
    "\n",
    "val_acc = np.reshape(np.asarray(val_acc), (3,2))\n",
    "\n",
    "fig, ax = plt.subplots()\n",
    "ax = heatmap(val_acc, xticklabels=gammas, yticklabels=kernels, annot=True)\n",
    "plt.ylabel(\"Kernel:\")\n",
    "plt.xlabel(\"Gamma:\")\n",
    "plt.title(\"Heatmap of Hyperparameters\")\n",
    "plt.show()\n",
    "\n",
    "C2 = [.01, .1, 1, 10, 100, 1000]\n",
    "val_acc = []\n",
    "for i in max_iter:\n",
    "    for c in C2:\n",
    "        svm = SVR(C=c, max_iter=i)\n",
    "        svm.fit(X_train_r, y_train_r)\n",
    "        val_acc.append(mean_squared_error(y_val_r, svm.predict(X_val_r)))\n",
    "\n",
    "val_acc = np.reshape(np.asarray(val_acc), (4,6))\n",
    "\n",
    "fig, ax = plt.subplots()\n",
    "ax = heatmap(val_acc, xticklabels=C2, yticklabels=max_iter, annot=True)\n",
    "plt.ylabel(\"Max Iterations\")\n",
    "plt.xlabel(\"Regularization:\")\n",
    "plt.title(\"Heatmap of Hyperparameters\")\n",
    "plt.show()\n",
    "\n",
    "\n",
    "\n",
    "# Minimum Validation MSE at rbf, scale, 1, 1000"
   ]
  },
  {
   "cell_type": "code",
   "execution_count": null,
   "metadata": {},
   "outputs": [],
   "source": [
    "kernSVM = SVR(C=1, max_iter=1000)\n",
    "kernSVM.fit(X_train_r, y_train_r)\n",
    "\n",
    "kSVM_pred = kernSVM.predict(X_train_r)\n",
    "print(\"Rain Training: \\n   MSE: \", mean_squared_error(y_train_r, kSVM_pred), \"\\n   R2:  \", r2_score(y_train_r, kSVM_pred))\n",
    "kSVM_pred = kernSVM.predict(X_val_r)\n",
    "print(\"Rain Validation: \\n   MSE: \", mean_squared_error(y_val_r, kSVM_pred), \"\\n   R2:  \", r2_score(y_val_r, kSVM_pred))\n",
    "\n",
    "kernSVM = SVR(C=1, max_iter=1000)\n",
    "kernSVM.fit(X_train_s, y_train_s)\n",
    "\n",
    "kSVM_pred = kernSVM.predict(X_train_s)\n",
    "print(\"Rain Training: \\n   MSE: \", mean_squared_error(y_train_s, kSVM_pred), \"\\n   R2:  \", r2_score(y_train_s, kSVM_pred))\n",
    "kSVM_pred = kernSVM.predict(X_val_s)\n",
    "print(\"Rain Validation: \\n   MSE: \", mean_squared_error(y_val_s, kSVM_pred), \"\\n   R2:  \", r2_score(y_val_s, kSVM_pred))\n",
    "\n",
    "# Note for report: \n",
    "# Rain .139/.012\n",
    "# Snow .029/-.194"
   ]
  },
  {
   "cell_type": "markdown",
   "metadata": {},
   "source": [
    "Model 4: Neural Network"
   ]
  },
  {
   "cell_type": "code",
   "execution_count": null,
   "metadata": {},
   "outputs": [],
   "source": [
    "structs = [(100), (100,100), (100,100,100), (200),\n",
    "(200,100), (200,100,100), (500), (500,200), (500,200,100)]\n",
    "lrs = [0.0001, 0.001, 0.01, 0.1]\n",
    "val_acc = []\n",
    "\n",
    "for rate in lrs:\n",
    "    for s in structs:\n",
    "        nn = MLPRegressor(s, 'relu', solver ='sgd', learning_rate_init=rate, random_state=state)\n",
    "        nn.fit(X_train_r, y_train_r)\n",
    "        try:\n",
    "            val_acc.append(mean_squared_error(y_val_r, nn.predict(X_val_r)))\n",
    "        except:     #Value exceeded maximum. .25 is higher than all others, but close enough for the heat map to make color distinctions\n",
    "            val_acc.append(0.25)\n",
    "\n",
    "val_acc = np.reshape(np.asarray(val_acc), (4,9))\n",
    "\n",
    "fig, ax = plt.subplots()\n",
    "ax = heatmap(val_acc, xticklabels=structs, yticklabels=lrs, annot=True)\n",
    "plt.ylabel(\"Learning Rate:\")\n",
    "plt.xlabel(\"Structure:\")\n",
    "plt.title(\"Heatmap of Hyperparameters\")\n",
    "plt.show()\n",
    "\n",
    "# Minimum Validation MSE at .01 learning rate, with multiple tied architectures"
   ]
  },
  {
   "cell_type": "code",
   "execution_count": null,
   "metadata": {},
   "outputs": [],
   "source": [
    "nn = MLPRegressor((500,200), 'relu', solver ='sgd', learning_rate_init=0.01, max_iter=1000)\n",
    "nn.fit(X_train_r, y_train_r)\n",
    "\n",
    "nn_pred = nn.predict(X_train_r)\n",
    "print(\"Rain Training: \\n   MSE: \", mean_squared_error(y_train_r, nn_pred), \"\\n   R2:  \", r2_score(y_train_r, nn_pred))\n",
    "nn_pred = nn.predict(X_val_r)\n",
    "print(\"Rain Validation: \\n   MSE: \", mean_squared_error(y_val_r, nn_pred), \"\\n   R2:  \", r2_score(y_val_r, nn_pred))\n",
    "\n",
    "nn = MLPRegressor((500,200), 'relu', solver ='sgd', learning_rate_init=0.01, max_iter=1000)\n",
    "nn.fit(X_train_s, y_train_s)\n",
    "\n",
    "nn_pred = nn.predict(X_train_s)\n",
    "print(\"Snow Training: \\n   MSE: \", mean_squared_error(y_train_s, nn_pred), \"\\n   R2:  \", r2_score(y_train_s, nn_pred))\n",
    "nn_pred = nn.predict(X_val_s)\n",
    "print(\"Snow Validation: \\n   MSE: \", mean_squared_error(y_val_s, nn_pred), \"\\n   R2:  \", r2_score(y_val_s, nn_pred))\n",
    "\n",
    "# Note for report: \n",
    "# Rain .134/.052\n",
    "# Snow .025/-.018"
   ]
  },
  {
   "cell_type": "markdown",
   "metadata": {},
   "source": [
    "Best Classifier is: K Nearest Neighbors with 15 neighbors\n",
    "\n",
    "Best Rain Regression is: Neural Network with (500,200) and lr=.01\n",
    "Best Snow Regression is: Default Linear regression"
   ]
  },
  {
   "cell_type": "code",
   "execution_count": null,
   "metadata": {},
   "outputs": [],
   "source": [
    "classifier = KNeighborsClassifier(n_neighbors=15)\n",
    "classifier.fit(X_train_class, y_train_class)\n",
    "\n",
    "rain = MLPRegressor((500,200), 'relu', solver ='sgd', learning_rate_init=0.01, max_iter=1000)\n",
    "rain.fit(X_train_r, y_train_r)\n",
    "\n",
    "snow = LinearRegression(copy_X=True)\n",
    "snow.fit(X_train_s, y_train_s)\n",
    "\n",
    "r_scores = []\n",
    "s_scores = []\n",
    "\n",
    "for point in range(len((X_test_class))):\n",
    "    X_sample = X_test_class[point].reshape(1, -1)\n",
    "    if(classifier.predict(X_sample) == 1):\n",
    "        #Rain\n",
    "        X_sample = X_test_r[point].reshape(1, -1)\n",
    "        r_scores.append(rain.predict(X_sample))\n",
    "        s_scores.append(0)\n",
    "        pass\n",
    "    else:\n",
    "        #Snow\n",
    "        X_sample = X_test_s[point].reshape(1, -1)\n",
    "        s_scores.append(snow.predict(X_sample))\n",
    "        r_scores.append(0)\n",
    "        pass\n",
    "\n",
    "print(\"Rain MSE:   \", mean_squared_error(y_test_r, r_scores))\n",
    "print(\"Snow MSE:   \", mean_squared_error(y_test_s, s_scores))"
   ]
  }
 ],
 "metadata": {
  "kernelspec": {
   "display_name": "Python 3.9.13 64-bit (microsoft store)",
   "language": "python",
   "name": "python3"
  },
  "language_info": {
   "codemirror_mode": {
    "name": "ipython",
    "version": 3
   },
   "file_extension": ".py",
   "mimetype": "text/x-python",
   "name": "python",
   "nbconvert_exporter": "python",
   "pygments_lexer": "ipython3",
   "version": "3.9.13"
  },
  "orig_nbformat": 4,
  "vscode": {
   "interpreter": {
    "hash": "3c90b2af064f3baa08f06de761b59460d33d98ca18545639bd5dd7a3ca403d2a"
   }
  }
 },
 "nbformat": 4,
 "nbformat_minor": 2
}
